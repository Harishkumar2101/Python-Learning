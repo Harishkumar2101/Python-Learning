{
 "cells": [
  {
   "cell_type": "markdown",
   "id": "c12eae85",
   "metadata": {},
   "source": [
    "### Modules"
   ]
  },
  {
   "cell_type": "markdown",
   "id": "bddc05b1",
   "metadata": {},
   "source": [
    "- If We Have 2 modules lets name Sales.py and app.py and we wanna import function in sales .py in app.py we do it by `from sales import *`.\n",
    "\n",
    "- But better to import what we need ...Like `from sales import tax`"
   ]
  },
  {
   "cell_type": "markdown",
   "id": "26e0f105",
   "metadata": {},
   "source": [
    "- In File Terms `package` is called `directory` and  `module` is called as `file`"
   ]
  },
  {
   "cell_type": "markdown",
   "id": "e9df4213",
   "metadata": {},
   "source": [
    "#### Creating a package\n",
    "\n",
    "- We created a `package` called `Ecommerce` and moved all `modules` into it and to initialise the folder as package we create a file called `__init__.py` to treat the `ecommerce folder` as it like a `package`."
   ]
  },
  {
   "cell_type": "markdown",
   "id": "181d1c02",
   "metadata": {},
   "source": []
  },
  {
   "cell_type": "markdown",
   "id": "d6c15abf",
   "metadata": {},
   "source": [
    "### Script And Module\n",
    "\n",
    "- If we wanna use a module/file as `script`(where we run our python files) we do it writing `if__name__ == \"__main_\"` .\n",
    "\n",
    "- So the code under that if runs only in `current script` but not in the script wherer we import this `module`."
   ]
  },
  {
   "cell_type": "markdown",
   "id": "dbe2a82c",
   "metadata": {},
   "source": []
  },
  {
   "cell_type": "code",
   "execution_count": null,
   "id": "17cde375",
   "metadata": {},
   "outputs": [],
   "source": []
  }
 ],
 "metadata": {
  "kernelspec": {
   "display_name": "venv",
   "language": "python",
   "name": "python3"
  },
  "language_info": {
   "codemirror_mode": {
    "name": "ipython",
    "version": 3
   },
   "file_extension": ".py",
   "mimetype": "text/x-python",
   "name": "python",
   "nbconvert_exporter": "python",
   "pygments_lexer": "ipython3",
   "version": "3.12.1"
  }
 },
 "nbformat": 4,
 "nbformat_minor": 5
}
