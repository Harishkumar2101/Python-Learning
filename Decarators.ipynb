{
 "cells": [
  {
   "cell_type": "markdown",
   "id": "a3cb5700",
   "metadata": {},
   "source": [
    "#### `Decarators`\n",
    "\n",
    "- A function that extends behaviour of another function without modifying the `Base Function`.\n",
    "- Pass The base function as argument to the decarator."
   ]
  },
  {
   "cell_type": "code",
   "execution_count": null,
   "id": "7eab7c6f",
   "metadata": {},
   "outputs": [
    {
     "name": "stdout",
     "output_type": "stream",
     "text": [
      "You add Sprinkles \n",
      "Second Order\n",
      "You add Sprinkles \n"
     ]
    }
   ],
   "source": [
    " # Base Function\n",
    " # Lets Assume Some One Wants An Vanilla Ice Cream and some one else wants an ice cream with Sprinkles.\n",
    "\n",
    "\n",
    "#Decarator\n",
    "def add_sprinkles(func):\n",
    "    \n",
    "    # we dont want to execute this decarator when ever we call with @ ... so we use wrapper.\n",
    "    # so that it will only execute when we cal our main func i.e., get_ice cream.\n",
    "    \n",
    "    def wrapper(): \n",
    "        print(\"You add Sprinkles \")\n",
    "        func()\n",
    "    return wrapper\n",
    "\n",
    "def add_fudge(func):\n",
    "    def wrapper():\n",
    "        print(\"You add fudge\")\n",
    "        func()\n",
    "    return wrapper\n",
    "\n",
    "@add_sprinkles\n",
    "@add_fudge\n",
    "def get_icecream():\n",
    "    \n",
    "    print(\"Here Is Your Ice-Cream 🍨 \")\n",
    "    \n",
    "get_icecream()\n",
    "\n",
    "print(\"Second Order\")\n",
    "\n",
    "\n",
    "get_icecream()\n"
   ]
  },
  {
   "cell_type": "markdown",
   "id": "33d18c8d",
   "metadata": {},
   "source": []
  },
  {
   "cell_type": "code",
   "execution_count": null,
   "id": "637b14e6",
   "metadata": {},
   "outputs": [],
   "source": [
    "class BankAccount:\n",
    "    def __init__(self, owner, balance=0):\n",
    "        self.owner = owner\n",
    "        self._balance = balance  # We Use  underscore for \"private\" attribute its for internal use only.\n",
    "\n",
    "    # Getter\n",
    "    @property\n",
    "    def balance(self):\n",
    "        return self._balance\n",
    "\n",
    "    # Setter\n",
    "    @balance.setter\n",
    "    def balance(self, amount):\n",
    "        if amount < 0:\n",
    "            print(\"Balance cant be negative!\")\n",
    "        else:\n",
    "            self._balance = amount\n",
    "            print(f\"Balance updated to {self._balance}\")\n",
    "\n",
    "   "
   ]
  },
  {
   "cell_type": "code",
   "execution_count": null,
   "id": "99ab5bf1",
   "metadata": {},
   "outputs": [],
   "source": [
    "Acc_1 = BankAccount(\"Harish\", 1000)\n",
    "\n",
    "# Get balance just returns the value .\n",
    "print(Acc_1.balance)  # 1000\n",
    "\n",
    "# Set balance validates and assigns the value\n",
    "Acc_1.balance = 500   # Balance updated to 500\n",
    "\n",
    "# Lets use Negative Value \n",
    "Acc_1.balance = -200  # Balance cannot be negative!"
   ]
  }
 ],
 "metadata": {
  "kernelspec": {
   "display_name": "venv",
   "language": "python",
   "name": "python3"
  },
  "language_info": {
   "codemirror_mode": {
    "name": "ipython",
    "version": 3
   },
   "file_extension": ".py",
   "mimetype": "text/x-python",
   "name": "python",
   "nbconvert_exporter": "python",
   "pygments_lexer": "ipython3",
   "version": "3.12.1"
  }
 },
 "nbformat": 4,
 "nbformat_minor": 5
}
