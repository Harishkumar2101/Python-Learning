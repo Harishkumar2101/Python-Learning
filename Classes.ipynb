{
 "cells": [
  {
   "cell_type": "markdown",
   "id": "1f256651",
   "metadata": {},
   "source": [
    "#  CLASSES"
   ]
  },
  {
   "cell_type": "markdown",
   "id": "428f3cf2",
   "metadata": {},
   "source": [
    "#### Class is an blueprint of an object\n",
    "#### object is instance of class"
   ]
  },
  {
   "cell_type": "markdown",
   "id": "69d2a825",
   "metadata": {},
   "source": [
    "* Methods in class should have atleast one parameter and mkstly we use it as `self`  .\n",
    "\n",
    "* Constructor def __init__(self)."
   ]
  },
  {
   "cell_type": "code",
   "execution_count": null,
   "id": "351cf76a",
   "metadata": {},
   "outputs": [
    {
     "name": "stdout",
     "output_type": "stream",
     "text": [
      "point 5 and 8\n",
      "red\n",
      "red\n"
     ]
    }
   ],
   "source": [
    "class Point:\n",
    "    @classmethod\n",
    "    def zero(cls):\n",
    "        return cls(0, 0)\n",
    "\n",
    "    def __gt__(self, other):\n",
    "        return self.x > other.x and self.y > other.y\n",
    "        print(point0 > point1)\n",
    "\n",
    "    # Class level attribute and its shared across all the instances.\n",
    "    default_colour = \"red\"\n",
    "\n",
    "    def __init__(self, x, y):\n",
    "        self.x = x\n",
    "        self.y = y\n",
    "\n",
    "    def draw(self):\n",
    "        print(f\"point {self.x} and {self.y}\")\n",
    "\n",
    "\n",
    "point1 = Point(5, 8)\n",
    "point1.draw()\n",
    "print(point1.default_colour)\n",
    "print(Point.default_colour)"
   ]
  },
  {
   "cell_type": "markdown",
   "id": "a954ec7e",
   "metadata": {},
   "source": [
    "#### Class Methods VS Instance Methods\n",
    "\n",
    "* Above functions(methods in class are instance methods it means user created it).\n",
    "\n",
    "* Now Class methods are those methods or functions which are not created by an user but exists by default.\n",
    "\n",
    "* we use class methods when we wanna initialize values with default values not unique ."
   ]
  },
  {
   "cell_type": "code",
   "execution_count": null,
   "id": "cd4d30be",
   "metadata": {},
   "outputs": [],
   "source": [
    "# Example Of Class Methods\n",
    "@classmethod  # Decarator\n",
    "def zero(cls):\n",
    "    return cls(0, 0)"
   ]
  },
  {
   "cell_type": "code",
   "execution_count": null,
   "id": "a782ccf1",
   "metadata": {},
   "outputs": [
    {
     "name": "stdout",
     "output_type": "stream",
     "text": [
      "point 0 and 0\n"
     ]
    }
   ],
   "source": [
    "# Printing point with default values\n",
    "\n",
    "point0 = Point.zero()  # Factory method\n",
    "point0.draw()"
   ]
  },
  {
   "cell_type": "code",
   "execution_count": 87,
   "id": "6fdd3945",
   "metadata": {},
   "outputs": [
    {
     "name": "stdout",
     "output_type": "stream",
     "text": [
      "point 5 and 8\n"
     ]
    }
   ],
   "source": [
    "point1.draw()"
   ]
  },
  {
   "cell_type": "markdown",
   "id": "f122f89d",
   "metadata": {},
   "source": [
    "### Magic Methods\n",
    "\n",
    "* --eq--()\n",
    "\n",
    "\n",
    "\n",
    "\n"
   ]
  },
  {
   "cell_type": "code",
   "execution_count": null,
   "id": "da6bcc2e",
   "metadata": {},
   "outputs": [
    {
     "name": "stdout",
     "output_type": "stream",
     "text": [
      "False\n"
     ]
    }
   ],
   "source": [
    "def __eq__(self, other):  # Other here is obj point1 and self if obj point 0\n",
    "    return self.x == other.x and self.y == other.y\n",
    "\n",
    "\n",
    "print(point0 == point1)"
   ]
  },
  {
   "cell_type": "markdown",
   "id": "59a5badd",
   "metadata": {},
   "source": [
    "## Lets check another one \n",
    "* --gt--()\n"
   ]
  },
  {
   "cell_type": "code",
   "execution_count": null,
   "id": "4eb0b006",
   "metadata": {},
   "outputs": [
    {
     "name": "stdout",
     "output_type": "stream",
     "text": [
      "False\n"
     ]
    }
   ],
   "source": [
    "def __gt__(self, other):  # Other here is obj point1 and self if obj point 0\n",
    "    return self.x > other.x and self.y > other.y\n",
    "\n",
    "\n",
    "print(point0 > point1)"
   ]
  },
  {
   "cell_type": "markdown",
   "id": "9face147",
   "metadata": {},
   "source": [
    "* point0 > point1\n",
    "* Python calls point0.__gt__(point1)"
   ]
  },
  {
   "cell_type": "markdown",
   "id": "cecb3228",
   "metadata": {},
   "source": [
    "#### Python automatically implements < operator when we use gt "
   ]
  },
  {
   "cell_type": "code",
   "execution_count": 90,
   "id": "613a3636",
   "metadata": {},
   "outputs": [
    {
     "name": "stdout",
     "output_type": "stream",
     "text": [
      "True\n"
     ]
    }
   ],
   "source": [
    "print(point0 < point1)"
   ]
  },
  {
   "cell_type": "code",
   "execution_count": null,
   "id": "699ee2bd",
   "metadata": {},
   "outputs": [
    {
     "name": "stdout",
     "output_type": "stream",
     "text": [
      "Point(8, 10)\n"
     ]
    }
   ],
   "source": [
    "# Correct class definition with __add__ and __repr__\n",
    "class Point:\n",
    "    def __init__(self, x, y):\n",
    "        self.x = x\n",
    "        self.y = y\n",
    "\n",
    "    def __add__(self, other):  # Handles +\n",
    "        return Point(self.x + other.x, self.y + other.y)\n",
    "\n",
    "    def __repr__(self):  # Clean print output\n",
    "        return f\"Point({self.x}, {self.y})\"\n",
    "\n",
    "\n",
    "# Create two Point objects\n",
    "point0 = Point(3, 4)\n",
    "point1 = Point(5, 6)\n",
    "\n",
    "\n",
    "sum = point0 + point1\n",
    "print(sum)"
   ]
  },
  {
   "cell_type": "code",
   "execution_count": null,
   "id": "c0ff102a",
   "metadata": {},
   "outputs": [
    {
     "name": "stdout",
     "output_type": "stream",
     "text": [
      "{'python': 1}\n",
      "{'python': 2}\n"
     ]
    }
   ],
   "source": [
    "class Cloud():\n",
    "    def __init__(self):\n",
    "        self.tags = {}\n",
    "\n",
    "    def add(self, tag):\n",
    "        self.tags[tag.lower()] = self.tags.get(tag.lower(), 0) + 1\n",
    "        print(self.tags)\n",
    "\n",
    "    def __getitem__(self, tag):\n",
    "        return self.tags.get(tag, 0)\n",
    "\n",
    "\n",
    "TagCloud = Cloud()\n",
    "TagCloud.add(\"python\")\n",
    "TagCloud.add(\"python\")"
   ]
  },
  {
   "cell_type": "markdown",
   "id": "40bfc406",
   "metadata": {},
   "source": [
    "### Properties"
   ]
  },
  {
   "cell_type": "code",
   "execution_count": null,
   "id": "f49e153c",
   "metadata": {},
   "outputs": [],
   "source": [
    "class Product:\n",
    "    def __init__(self, price):\n",
    "        self.set_price(price)\n",
    "\n",
    "    def set_price(self, price):\n",
    "\n",
    "        if price < 0:\n",
    "            raise ValueError(\"Price Cant Be Negative\")\n",
    "        self.price = price"
   ]
  },
  {
   "cell_type": "code",
   "execution_count": null,
   "id": "a5b8e95f",
   "metadata": {},
   "outputs": [],
   "source": [
    "apple = Product(10)"
   ]
  },
  {
   "cell_type": "code",
   "execution_count": null,
   "id": "7ac2c617",
   "metadata": {},
   "outputs": [],
   "source": [
    "\n",
    "class Product:\n",
    "    def __init__(self, price):\n",
    "        self.price = price\n",
    "\n",
    "\n",
    "product = Product(50)"
   ]
  },
  {
   "cell_type": "markdown",
   "id": "a52e4802",
   "metadata": {},
   "source": [
    "## We Dont wanna have product as negative value. \n",
    "\n",
    "* product(-50)"
   ]
  },
  {
   "cell_type": "markdown",
   "id": "f9a6d4ab",
   "metadata": {},
   "source": [
    "`We Use @property Decorator`\n",
    "\n",
    "* It Has **Getter**\n",
    "* It Has **Setter**"
   ]
  },
  {
   "cell_type": "code",
   "execution_count": null,
   "id": "aeefde7b",
   "metadata": {},
   "outputs": [],
   "source": [
    "@property\n",
    "def price(self):\n",
    "    return self.__price\n",
    "\n",
    "\n",
    "@price.setter\n",
    "def price(self, value):\n",
    "    if value < 0:\n",
    "        raise ValueError(\"Price cane be negative\")\n",
    "\n",
    "    self.__price = value"
   ]
  },
  {
   "cell_type": "markdown",
   "id": "7478e441",
   "metadata": {},
   "source": [
    "## Lets Use Rectangle Example\n",
    "\n",
    "* we want positive values not negative\n",
    "\n"
   ]
  },
  {
   "cell_type": "code",
   "execution_count": 97,
   "id": "4b9dfff0",
   "metadata": {},
   "outputs": [],
   "source": [
    "class Rectangle:\n",
    "    def __init__(self, width, height):\n",
    "        self._width = width\n",
    "        self._height = height\n",
    "\n",
    "    @property\n",
    "    def width(self):\n",
    "        return f\"{self._width:.1f}cm\"\n",
    "\n",
    "    @width.setter\n",
    "    def width(self, value):\n",
    "        if value > 0:\n",
    "            self._width = value\n",
    "        else:\n",
    "            print(\"Can't Be Negative\")\n",
    "\n",
    "    @property\n",
    "    def height(self):\n",
    "        return f\"{self._height:.1f}cm\""
   ]
  },
  {
   "cell_type": "code",
   "execution_count": null,
   "id": "a2868b57",
   "metadata": {},
   "outputs": [
    {
     "data": {
      "text/plain": [
       "'-10.0cm'"
      ]
     },
     "execution_count": 98,
     "metadata": {},
     "output_type": "execute_result"
    }
   ],
   "source": [
    "r = Rectangle(-10, 20)\n",
    "\n",
    "r.width"
   ]
  },
  {
   "cell_type": "markdown",
   "id": "4f54f3e3",
   "metadata": {},
   "source": [
    "#### But Above code wont check validation while creating obj with negative values\n",
    "\n",
    "\n",
    "##### So below code initilly checks negative"
   ]
  },
  {
   "cell_type": "code",
   "execution_count": 99,
   "id": "9b05d388",
   "metadata": {},
   "outputs": [],
   "source": [
    "class Rectangles:\n",
    "    def __init__(self, width, height):\n",
    "        self.width = width     # ✅ will trigger validation\n",
    "        self.height = height\n",
    "\n",
    "    @property\n",
    "    def width(self):\n",
    "        return f\"{self._width:.1f}cm\"\n",
    "\n",
    "    @width.setter\n",
    "    def width(self, value):\n",
    "        if value > 0:\n",
    "            self._width = value\n",
    "        else:\n",
    "            print(\"Can't Be Negative\")\n",
    "\n",
    "    @property\n",
    "    def height(self):\n",
    "        return f\"{self._height:.1f}cm\"\n",
    "\n",
    "    @height.setter\n",
    "    def height(self, value):\n",
    "        if value > 0:\n",
    "            self._height = value\n",
    "        else:\n",
    "            print(\"Can't Be Negative\")"
   ]
  },
  {
   "cell_type": "code",
   "execution_count": null,
   "id": "af5d2653",
   "metadata": {},
   "outputs": [
    {
     "name": "stdout",
     "output_type": "stream",
     "text": [
      "Can't Be Negative\n"
     ]
    }
   ],
   "source": [
    "Rt = Rectangles(-2, 20)"
   ]
  },
  {
   "cell_type": "code",
   "execution_count": null,
   "id": "4777b001",
   "metadata": {},
   "outputs": [],
   "source": [
    "Rt1 = Rectangles(20, 20)"
   ]
  },
  {
   "cell_type": "code",
   "execution_count": null,
   "id": "15200ed6",
   "metadata": {},
   "outputs": [
    {
     "name": "stdout",
     "output_type": "stream",
     "text": [
      "50\n"
     ]
    }
   ],
   "source": [
    "class Square():\n",
    "    def __init__(self, len):\n",
    "        self.len = len\n",
    "        self.wid = 10\n",
    "\n",
    "    def area(self):\n",
    "        return self.len*self.wid\n",
    "\n",
    "\n",
    "s = Square(5)\n",
    "print(s.area())"
   ]
  },
  {
   "cell_type": "markdown",
   "id": "419f0e09",
   "metadata": {},
   "source": [
    "### Multiple Inheritance"
   ]
  },
  {
   "cell_type": "markdown",
   "id": "baa730a9",
   "metadata": {},
   "source": [
    "**class Manager(Employee, Person):**\n",
    "\n",
    "- It Executes Method Of first class and if it executes then it stops there without running second class .\n",
    "\n",
    "- If first class has no methods then it runs the method from second class.\n"
   ]
  },
  {
   "cell_type": "code",
   "execution_count": null,
   "id": "e56c5a29",
   "metadata": {},
   "outputs": [
    {
     "name": "stdout",
     "output_type": "stream",
     "text": [
      "Person Greet\n"
     ]
    }
   ],
   "source": [
    "class Employee:\n",
    "    pass\n",
    "    # def greet(self):\n",
    "    # print(\"Employee Greet\")\n",
    "\n",
    "\n",
    "class Person:\n",
    "    def greet(self):\n",
    "        print(\"Person Greet\")\n",
    "\n",
    "\n",
    "class Manager(Employee, Person):\n",
    "    pass\n",
    "\n",
    "\n",
    "manager = Manager()\n",
    "manager.greet()"
   ]
  },
  {
   "cell_type": "code",
   "execution_count": 6,
   "id": "e8c196ba",
   "metadata": {},
   "outputs": [],
   "source": [
    "\n",
    "class InvalidOperationsError(Exception):\n",
    "    pass\n",
    "\n",
    "class Stream:\n",
    "    def __init__(self):\n",
    "        self.opened = False\n",
    "\n",
    "    def open(self):\n",
    "        if self.opened:\n",
    "            raise InvalidOperationsError(\"Stream Is Already Open\")\n",
    "\n",
    "        self.opened = True\n",
    "        \n",
    "    \n",
    "    def close(self):\n",
    "        if not self.opened:\n",
    "            raise InvalidOperationsError(\"Stream Is Already Closed\")\n",
    "\n",
    "        self.opened = False\n",
    "        \n",
    "class FileStream(Stream):\n",
    "    def read(self):\n",
    "        print(\"Reading Data From A File\")\n",
    "        \n",
    "class NetworkStream(Stream):\n",
    "    def read(self):\n",
    "        print(\"Reading Data From A Network\")"
   ]
  },
  {
   "cell_type": "markdown",
   "id": "5a861d4a",
   "metadata": {},
   "source": [
    "### Abstract Base Classes\n",
    "\n",
    "`from abc import ABC,abstractmethod`"
   ]
  },
  {
   "cell_type": "code",
   "execution_count": 11,
   "id": "0aee3f5c",
   "metadata": {},
   "outputs": [
    {
     "name": "stdout",
     "output_type": "stream",
     "text": [
      "500\n"
     ]
    }
   ],
   "source": [
    "\n",
    "from abc import ABC, abstractmethod\n",
    "\n",
    "class Maths(ABC):\n",
    "    \n",
    "    @abstractmethod\n",
    "    def Area():\n",
    "        pass\n",
    "        \n",
    "class Rectangle(Maths):\n",
    "    def __init__(self,len,bre):\n",
    "        self.len=len\n",
    "        self.bre=bre\n",
    "    \n",
    "    def Area(self):\n",
    "        return self.len*self.bre\n",
    "    \n",
    "        \n",
    "        \n",
    "    \n",
    "    \n",
    "Rect = Rectangle(5,100)\n",
    "print(Rect.Area())\n",
    "\n",
    "\n",
    "    \n",
    "    \n",
    "    "
   ]
  },
  {
   "cell_type": "code",
   "execution_count": null,
   "id": "3742cabb",
   "metadata": {},
   "outputs": [
    {
     "name": "stdout",
     "output_type": "stream",
     "text": [
      "Area is: 50\n"
     ]
    }
   ],
   "source": []
  },
  {
   "cell_type": "code",
   "execution_count": null,
   "id": "4c8d7686",
   "metadata": {},
   "outputs": [],
   "source": []
  }
 ],
 "metadata": {
  "kernelspec": {
   "display_name": "venv",
   "language": "python",
   "name": "python3"
  },
  "language_info": {
   "codemirror_mode": {
    "name": "ipython",
    "version": 3
   },
   "file_extension": ".py",
   "mimetype": "text/x-python",
   "name": "python",
   "nbconvert_exporter": "python",
   "pygments_lexer": "ipython3",
   "version": "3.12.1"
  }
 },
 "nbformat": 4,
 "nbformat_minor": 5
}
