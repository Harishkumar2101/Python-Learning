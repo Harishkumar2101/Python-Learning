{
 "cells": [
  {
   "cell_type": "markdown",
   "id": "df112a3a",
   "metadata": {},
   "source": [
    "# Lists [ ]\n"
   ]
  },
  {
   "cell_type": "code",
   "execution_count": 4,
   "id": "32d16af7",
   "metadata": {},
   "outputs": [
    {
     "name": "stdout",
     "output_type": "stream",
     "text": [
      "[0, 0, 0, 0, 0, 0, 0, 0, 0, 0]\n"
     ]
    }
   ],
   "source": [
    "Zeros=[0]*10\n",
    "print(Zeros)"
   ]
  },
  {
   "cell_type": "code",
   "execution_count": 5,
   "id": "40af29fc",
   "metadata": {},
   "outputs": [
    {
     "name": "stdout",
     "output_type": "stream",
     "text": [
      "[0, 1, 2, 3, 4, 5, 6, 7, 8, 9, 10, 11, 12, 13, 14, 15, 16, 17, 18, 19]\n"
     ]
    }
   ],
   "source": [
    "n=list(range(20))\n",
    "print(n)"
   ]
  },
  {
   "cell_type": "code",
   "execution_count": 6,
   "id": "026d391f",
   "metadata": {},
   "outputs": [
    {
     "name": "stdout",
     "output_type": "stream",
     "text": [
      "['H', 'e', 'l', 'l', 'o', ' ', 'W', 'o', 'r', 'l', 'd']\n"
     ]
    }
   ],
   "source": [
    "chars=list(\"Hello World\")\n",
    "print(chars)"
   ]
  },
  {
   "cell_type": "code",
   "execution_count": 7,
   "id": "31e133f4",
   "metadata": {},
   "outputs": [
    {
     "name": "stdout",
     "output_type": "stream",
     "text": [
      "['A', 'b', 'c']\n"
     ]
    }
   ],
   "source": [
    "letters=[\"a\",\"b\",\"c\",\"d\"]\n",
    "letters[0]=\"A\"\n",
    "print(letters[:3])"
   ]
  },
  {
   "cell_type": "code",
   "execution_count": 8,
   "id": "5e767c1d",
   "metadata": {},
   "outputs": [
    {
     "name": "stdout",
     "output_type": "stream",
     "text": [
      "['A', 'c']\n"
     ]
    }
   ],
   "source": [
    "print(letters[::2])"
   ]
  },
  {
   "cell_type": "code",
   "execution_count": 9,
   "id": "a88756b7",
   "metadata": {},
   "outputs": [
    {
     "name": "stdout",
     "output_type": "stream",
     "text": [
      "[0, 2, 4, 6, 8, 10, 12, 14, 16, 18]\n"
     ]
    }
   ],
   "source": [
    "Nums=list(range(20))\n",
    "print(Nums[::2])"
   ]
  },
  {
   "cell_type": "code",
   "execution_count": 10,
   "id": "c18b53cc",
   "metadata": {},
   "outputs": [
    {
     "name": "stdout",
     "output_type": "stream",
     "text": [
      "[19, 18, 17, 16, 15, 14, 13, 12, 11, 10, 9, 8, 7, 6, 5, 4, 3, 2, 1, 0]\n"
     ]
    }
   ],
   "source": [
    "Nums=list(range(20))\n",
    "print(Nums[::-1])"
   ]
  },
  {
   "cell_type": "markdown",
   "id": "99b7fcae",
   "metadata": {},
   "source": [
    "## List Unpacking\n",
    "- No of variables on left = Numbers Of Items In List"
   ]
  },
  {
   "cell_type": "code",
   "execution_count": 11,
   "id": "f9397330",
   "metadata": {},
   "outputs": [
    {
     "name": "stdout",
     "output_type": "stream",
     "text": [
      "[1, 2, 3, 4, 5, 6, 7, 8, 9, 10]\n"
     ]
    }
   ],
   "source": [
    "Nums=list(range(1,11))\n",
    "print(Nums)\n",
    "\n"
   ]
  },
  {
   "cell_type": "code",
   "execution_count": 12,
   "id": "9b9f735a",
   "metadata": {},
   "outputs": [
    {
     "ename": "ValueError",
     "evalue": "too many values to unpack (expected 6)",
     "output_type": "error",
     "traceback": [
      "\u001b[31m---------------------------------------------------------------------------\u001b[39m",
      "\u001b[31mValueError\u001b[39m                                Traceback (most recent call last)",
      "\u001b[36mCell\u001b[39m\u001b[36m \u001b[39m\u001b[32mIn[12]\u001b[39m\u001b[32m, line 1\u001b[39m\n\u001b[32m----> \u001b[39m\u001b[32m1\u001b[39m a,b,c,d,e,f=Nums\n\u001b[32m      2\u001b[39m \u001b[38;5;28mprint\u001b[39m(a,b,c,d,e,f)\n",
      "\u001b[31mValueError\u001b[39m: too many values to unpack (expected 6)"
     ]
    }
   ],
   "source": [
    "a,b,c,d,e,f=Nums\n",
    "print(a,b,c,d,e,f)"
   ]
  },
  {
   "cell_type": "markdown",
   "id": "678177d0",
   "metadata": {},
   "source": [
    "* We Use * In this case"
   ]
  },
  {
   "cell_type": "code",
   "execution_count": null,
   "id": "b0fe6f70",
   "metadata": {},
   "outputs": [
    {
     "name": "stdout",
     "output_type": "stream",
     "text": [
      "1 2 3 4 5 6\n",
      "--------------\n",
      "Rest = [7, 8, 9, 10]\n"
     ]
    }
   ],
   "source": [
    "a,b,c,d,e,f,*Rest=Nums\n",
    "print(a,b,c,d,e,f)\n",
    "print(\"--------------\")\n",
    "print(f\"Rest = {Rest}\")"
   ]
  },
  {
   "cell_type": "code",
   "execution_count": null,
   "id": "ac848469",
   "metadata": {},
   "outputs": [
    {
     "name": "stdout",
     "output_type": "stream",
     "text": [
      "1 6\n"
     ]
    }
   ],
   "source": [
    "Numbers=[1,2,3,4,5,6]\n",
    "first,*middle,last=Numbers\n",
    "print(first , last)"
   ]
  },
  {
   "cell_type": "code",
   "execution_count": null,
   "id": "32e1ded7",
   "metadata": {},
   "outputs": [
    {
     "name": "stdout",
     "output_type": "stream",
     "text": [
      "a\n",
      "b\n",
      "c\n",
      "d\n"
     ]
    }
   ],
   "source": [
    "letters=[\"a\",\"b\",\"c\",\"d\"]\n",
    "for letter in letters:\n",
    "    print(letter)"
   ]
  },
  {
   "cell_type": "markdown",
   "id": "a26d12df",
   "metadata": {},
   "source": [
    "* Using Enemurate To Get Indexes"
   ]
  },
  {
   "cell_type": "code",
   "execution_count": null,
   "id": "9ebc0417",
   "metadata": {},
   "outputs": [
    {
     "name": "stdout",
     "output_type": "stream",
     "text": [
      "0 a\n",
      "1 b\n",
      "2 c\n",
      "3 d\n"
     ]
    }
   ],
   "source": [
    "for index,letter in enumerate(letters):\n",
    "    print(index,letter)"
   ]
  },
  {
   "cell_type": "code",
   "execution_count": null,
   "id": "2464e804",
   "metadata": {},
   "outputs": [
    {
     "name": "stdout",
     "output_type": "stream",
     "text": [
      "['a', 'b', 'c', 'd']\n"
     ]
    }
   ],
   "source": [
    "print(letters)"
   ]
  },
  {
   "cell_type": "code",
   "execution_count": null,
   "id": "b6f4e75b",
   "metadata": {},
   "outputs": [
    {
     "name": "stdout",
     "output_type": "stream",
     "text": [
      "['a', 'b', 'c', 'd', 'e']\n"
     ]
    }
   ],
   "source": [
    "letters.append(\"e\")\n",
    "print(letters)"
   ]
  },
  {
   "cell_type": "markdown",
   "id": "cc41062e",
   "metadata": {},
   "source": [
    "* Pop() Removes Last Element"
   ]
  },
  {
   "cell_type": "code",
   "execution_count": null,
   "id": "9503be64",
   "metadata": {},
   "outputs": [
    {
     "name": "stdout",
     "output_type": "stream",
     "text": [
      "['A', 'b', 'c', 'd', 'e']\n"
     ]
    }
   ],
   "source": [
    "letters.pop()  \n",
    "print(letters)"
   ]
  },
  {
   "cell_type": "markdown",
   "id": "e203befe",
   "metadata": {},
   "source": [
    "* insert() adds Element at given index"
   ]
  },
  {
   "cell_type": "code",
   "execution_count": null,
   "id": "64d3376e",
   "metadata": {},
   "outputs": [
    {
     "name": "stdout",
     "output_type": "stream",
     "text": [
      "['A', 'b', 'c', 'd', 'e', 'e']\n"
     ]
    }
   ],
   "source": [
    "letters.insert(5,\"e\")\n",
    "print(letters)"
   ]
  },
  {
   "cell_type": "markdown",
   "id": "e28f4128",
   "metadata": {},
   "source": [
    "* remove() is used to remove first occurance of element"
   ]
  },
  {
   "cell_type": "code",
   "execution_count": null,
   "id": "17364111",
   "metadata": {},
   "outputs": [
    {
     "name": "stdout",
     "output_type": "stream",
     "text": [
      "['A', 'b', 'c', 'd', 'e']\n"
     ]
    }
   ],
   "source": [
    "letters.append(\"e\")\n",
    "print(letters)"
   ]
  },
  {
   "cell_type": "markdown",
   "id": "64d0ad5c",
   "metadata": {},
   "source": [
    "* count() used to find count of that element in list"
   ]
  },
  {
   "cell_type": "code",
   "execution_count": null,
   "id": "167179e4",
   "metadata": {},
   "outputs": [
    {
     "name": "stdout",
     "output_type": "stream",
     "text": [
      "1\n"
     ]
    }
   ],
   "source": [
    "a=letters.count(\"e\")\n",
    "print(a)\n"
   ]
  },
  {
   "cell_type": "code",
   "execution_count": null,
   "id": "d86e907f",
   "metadata": {},
   "outputs": [
    {
     "name": "stdout",
     "output_type": "stream",
     "text": [
      "['a', 'b', 'c', 'd', 'e']\n"
     ]
    }
   ],
   "source": [
    "letters.remove(\"e\")\n",
    "print(letters)"
   ]
  },
  {
   "cell_type": "markdown",
   "id": "6cf2644c",
   "metadata": {},
   "source": [
    "* del is used to delete range of items\n"
   ]
  },
  {
   "cell_type": "code",
   "execution_count": null,
   "id": "dc4a63ac",
   "metadata": {},
   "outputs": [
    {
     "name": "stdout",
     "output_type": "stream",
     "text": [
      "['A', 'b', 'c', 'd']\n",
      "['A', 'b']\n"
     ]
    }
   ],
   "source": [
    "print(letters)\n",
    "del letters[2:5]\n",
    "print(letters)\n"
   ]
  },
  {
   "cell_type": "markdown",
   "id": "1aa5a357",
   "metadata": {},
   "source": [
    "* Clear() is used to empty list"
   ]
  },
  {
   "cell_type": "code",
   "execution_count": null,
   "id": "8c9e919a",
   "metadata": {},
   "outputs": [
    {
     "name": "stdout",
     "output_type": "stream",
     "text": [
      "[]\n"
     ]
    }
   ],
   "source": [
    "\n",
    "letters.clear()\n",
    "print(letters)"
   ]
  },
  {
   "cell_type": "code",
   "execution_count": 1,
   "id": "c126fc22",
   "metadata": {},
   "outputs": [],
   "source": [
    "numbs=[4,6,3,7,4,78,3,33,787,33]\n"
   ]
  },
  {
   "cell_type": "markdown",
   "id": "8ae85f85",
   "metadata": {},
   "source": [
    "* sort() for sorting in asc order and reverse=True For Dec\n"
   ]
  },
  {
   "cell_type": "code",
   "execution_count": null,
   "id": "3fecd8af",
   "metadata": {},
   "outputs": [
    {
     "name": "stdout",
     "output_type": "stream",
     "text": [
      "[3, 3, 4, 4, 6, 7, 33, 33, 78, 787]\n"
     ]
    }
   ],
   "source": [
    "numbs.sort()\n",
    "print(numbs)"
   ]
  },
  {
   "cell_type": "code",
   "execution_count": null,
   "id": "be2e49ae",
   "metadata": {},
   "outputs": [
    {
     "name": "stdout",
     "output_type": "stream",
     "text": [
      "[787, 78, 33, 33, 7, 6, 4, 4, 3, 3]\n"
     ]
    }
   ],
   "source": [
    "numbs.sort(reverse=True)\n",
    "print(numbs)"
   ]
  },
  {
   "cell_type": "markdown",
   "id": "aabd82b6",
   "metadata": {},
   "source": [
    "* Build In Function Sorted(Listname)\n",
    "* It wont chnage original list"
   ]
  },
  {
   "cell_type": "code",
   "execution_count": null,
   "id": "9328ef72",
   "metadata": {},
   "outputs": [
    {
     "name": "stdout",
     "output_type": "stream",
     "text": [
      "[3, 3, 4, 4, 6, 7, 33, 33, 78, 787]\n",
      "[787, 78, 33, 33, 7, 6, 4, 4, 3, 3]\n"
     ]
    }
   ],
   "source": [
    "\n",
    "print(sorted(numbs))\n",
    "print(numbs)"
   ]
  },
  {
   "cell_type": "markdown",
   "id": "a8289f91",
   "metadata": {},
   "source": [
    "* Sorting a list of list"
   ]
  },
  {
   "cell_type": "code",
   "execution_count": null,
   "id": "62b879d2",
   "metadata": {},
   "outputs": [
    {
     "name": "stdout",
     "output_type": "stream",
     "text": [
      "sorting according to age\n",
      "[('Charlie', 20), ('Alice', 25), ('Bob', 30)]\n"
     ]
    }
   ],
   "source": [
    "people = [(\"Alice\", 25), (\"Bob\", 30), (\"Charlie\", 20)]\n",
    "#Lets sort according to age\n",
    "print(\"sorting according to age\")\n",
    "people.sort(key=lambda x:x[1])\n",
    "print(people)"
   ]
  },
  {
   "cell_type": "code",
   "execution_count": null,
   "id": "6e55ab36",
   "metadata": {},
   "outputs": [],
   "source": [
    "items=[\n",
    "    (\"Product 1\",10),\n",
    "    (\"Product 2\",9),\n",
    "    (\"Product 3\",12),\n",
    "]"
   ]
  },
  {
   "cell_type": "markdown",
   "id": "a495dc48",
   "metadata": {},
   "source": [
    "* Using Map() And Lambda()"
   ]
  },
  {
   "cell_type": "code",
   "execution_count": null,
   "id": "1c0ff097",
   "metadata": {},
   "outputs": [
    {
     "name": "stdout",
     "output_type": "stream",
     "text": [
      "[10, 9, 12]\n"
     ]
    }
   ],
   "source": [
    "prices=list(map(lambda x:x[1],items))\n",
    "print(prices)"
   ]
  },
  {
   "cell_type": "markdown",
   "id": "a18e4fd2",
   "metadata": {},
   "source": [
    "* filter()"
   ]
  },
  {
   "cell_type": "code",
   "execution_count": null,
   "id": "c0559b0c",
   "metadata": {},
   "outputs": [
    {
     "name": "stdout",
     "output_type": "stream",
     "text": [
      "[('Product 1', 10), ('Product 3', 12)]\n"
     ]
    }
   ],
   "source": [
    "Price=list(filter(lambda x : x[1] >= 10,items))\n",
    "print(Price)"
   ]
  },
  {
   "cell_type": "markdown",
   "id": "297bc5d5",
   "metadata": {},
   "source": [
    "* Comprehension\n"
   ]
  },
  {
   "cell_type": "code",
   "execution_count": null,
   "id": "2033d81c",
   "metadata": {},
   "outputs": [
    {
     "name": "stdout",
     "output_type": "stream",
     "text": [
      "[1, 2, 3, 4, 5, 6, 7, 8, 9, 10, 11, 12, 13, 14, 15, 16, 17, 18, 19, 20]\n"
     ]
    }
   ],
   "source": [
    "#Printing Even Numbers\n",
    "\n",
    "Nums=list(range(1,21))\n",
    "print(Nums)"
   ]
  },
  {
   "cell_type": "code",
   "execution_count": null,
   "id": "a9f35942",
   "metadata": {},
   "outputs": [
    {
     "name": "stdout",
     "output_type": "stream",
     "text": [
      "[2, 4, 6, 8, 10, 12, 14, 16, 18, 20]\n"
     ]
    }
   ],
   "source": [
    "Even= [x for x in Nums if x%2==0]\n",
    "print(Even)"
   ]
  },
  {
   "cell_type": "code",
   "execution_count": null,
   "id": "b23c1b75",
   "metadata": {},
   "outputs": [
    {
     "data": {
      "text/plain": [
       "[('Product 1', 10), ('Product 3', 12)]"
      ]
     },
     "execution_count": 25,
     "metadata": {},
     "output_type": "execute_result"
    }
   ],
   "source": [
    "Prices= [item for item in items if item[1] >= 10]\n",
    "Prices"
   ]
  },
  {
   "cell_type": "markdown",
   "id": "07ac8cee",
   "metadata": {},
   "source": [
    "* zip() Combines two lists based on Index"
   ]
  },
  {
   "cell_type": "code",
   "execution_count": null,
   "id": "f3f8a473",
   "metadata": {},
   "outputs": [
    {
     "name": "stdout",
     "output_type": "stream",
     "text": [
      "[('Harish', 25), ('Suraj', 22), ('Patha', 19)]\n"
     ]
    }
   ],
   "source": [
    "Names=[\"Harish\",\"Suraj\",\"Patha\"]\n",
    "Age=[25,22,19]\n",
    "\n",
    "Result=list(zip(Names,Age))\n",
    "print(Result)\n",
    "\n",
    "       "
   ]
  },
  {
   "cell_type": "markdown",
   "id": "616b9a91",
   "metadata": {},
   "source": [
    "# Queue"
   ]
  },
  {
   "cell_type": "code",
   "execution_count": null,
   "id": "52fedcdc",
   "metadata": {},
   "outputs": [
    {
     "name": "stdout",
     "output_type": "stream",
     "text": [
      "deque([1, 2, 3, 4])\n"
     ]
    }
   ],
   "source": [
    "\n",
    "from collections import deque\n",
    "\n",
    "queue=deque()\n",
    "queue.append(1)\n",
    "queue.append(2)\n",
    "queue.append(3)\n",
    "queue.append(4)\n",
    "print(queue)"
   ]
  },
  {
   "cell_type": "code",
   "execution_count": null,
   "id": "cf0a2676",
   "metadata": {},
   "outputs": [
    {
     "name": "stdout",
     "output_type": "stream",
     "text": [
      "deque([2, 3, 4])\n"
     ]
    }
   ],
   "source": [
    "queue.popleft()\n",
    "print(queue)"
   ]
  },
  {
   "cell_type": "markdown",
   "id": "c216a2c7",
   "metadata": {},
   "source": [
    "# Sets\n",
    "\n",
    "* Unordered Items And No Duplicates"
   ]
  },
  {
   "cell_type": "code",
   "execution_count": null,
   "id": "73dc784d",
   "metadata": {},
   "outputs": [
    {
     "name": "stdout",
     "output_type": "stream",
     "text": [
      "{1, 2, 3, 4, 5, 7, 8}\n"
     ]
    }
   ],
   "source": [
    "number=[1,2,3,4,3,1,5]\n",
    "first=set(number)\n",
    "second={7,8,1}\n",
    "\n",
    "Union=first | second\n",
    "print(Union)"
   ]
  },
  {
   "cell_type": "code",
   "execution_count": null,
   "id": "01924461",
   "metadata": {},
   "outputs": [
    {
     "name": "stdout",
     "output_type": "stream",
     "text": [
      "{1}\n"
     ]
    }
   ],
   "source": [
    "Intersection= first & second\n",
    "print(Intersection)\n"
   ]
  },
  {
   "cell_type": "code",
   "execution_count": null,
   "id": "084c2afe",
   "metadata": {},
   "outputs": [
    {
     "name": "stdout",
     "output_type": "stream",
     "text": [
      "{2, 3, 4, 5}\n"
     ]
    }
   ],
   "source": [
    "print(first-second)"
   ]
  },
  {
   "cell_type": "code",
   "execution_count": null,
   "id": "c6ba90e5",
   "metadata": {},
   "outputs": [
    {
     "name": "stdout",
     "output_type": "stream",
     "text": [
      "{2, 3, 4, 5, 7, 8}\n"
     ]
    }
   ],
   "source": [
    "print(first^second)\n"
   ]
  },
  {
   "cell_type": "markdown",
   "id": "97d6407e",
   "metadata": {},
   "source": [
    "### Dictionaries\n",
    "\n",
    "* Key Value\n",
    "* {}\n"
   ]
  },
  {
   "cell_type": "code",
   "execution_count": 13,
   "id": "d6112c9a",
   "metadata": {},
   "outputs": [
    {
     "name": "stdout",
     "output_type": "stream",
     "text": [
      " Point : {'X': 1, 'Y': 2}\n",
      " Points : {'x': 1, 'y': 2, 'z': 3}\n"
     ]
    }
   ],
   "source": [
    "point={\"X\":1,\"Y\":2}\n",
    "points=dict(x=1,y=2,z=3)\n",
    "print(f\" Point : {point}\")\n",
    "print(f\" Points : {points}\")"
   ]
  },
  {
   "cell_type": "code",
   "execution_count": 14,
   "id": "5e49cc93",
   "metadata": {},
   "outputs": [
    {
     "name": "stdout",
     "output_type": "stream",
     "text": [
      "{'X': 1, 'Y': 2, 'z': 10}\n"
     ]
    }
   ],
   "source": [
    "point[\"z\"]=10\n",
    "print(point)"
   ]
  },
  {
   "cell_type": "markdown",
   "id": "c2bf6a47",
   "metadata": {},
   "source": [
    "* get() To Get value if exists else none or value specified"
   ]
  },
  {
   "cell_type": "code",
   "execution_count": 20,
   "id": "53fe802e",
   "metadata": {},
   "outputs": [
    {
     "name": "stdout",
     "output_type": "stream",
     "text": [
      "None\n",
      "14\n",
      "14\n",
      "{'X': 1, 'Y': 2, 'z': 10, 'w': 14}\n"
     ]
    }
   ],
   "source": [
    "print(point.get(\"a\"))\n",
    "\n",
    "print(point.get(\"w\",11))\n",
    "\n",
    "print(point.setdefault(\"w\",14))\n",
    "\n",
    "print(point)\n"
   ]
  },
  {
   "cell_type": "code",
   "execution_count": 23,
   "id": "b178a970",
   "metadata": {},
   "outputs": [
    {
     "name": "stdout",
     "output_type": "stream",
     "text": [
      "Variable : X And Value : 1\n",
      "Variable : Y And Value : 2\n",
      "Variable : z And Value : 10\n",
      "Variable : w And Value : 14\n"
     ]
    }
   ],
   "source": [
    "for key,values in point.items():\n",
    "    print(f\"Variable : {key} And Value : {values}\")"
   ]
  },
  {
   "cell_type": "markdown",
   "id": "9236749c",
   "metadata": {},
   "source": [
    "#### Dictionary Comprehension"
   ]
  },
  {
   "cell_type": "code",
   "execution_count": 27,
   "id": "73fbd07f",
   "metadata": {},
   "outputs": [
    {
     "name": "stdout",
     "output_type": "stream",
     "text": [
      "{0: 0, 1: 2, 2: 4, 3: 6, 4: 8}\n"
     ]
    }
   ],
   "source": [
    "values={x:x * 2 for x in range(5)}\n",
    "print(values)"
   ]
  },
  {
   "cell_type": "markdown",
   "id": "8455db80",
   "metadata": {},
   "source": [
    "## Generator \n",
    "\n",
    "* It Uses Less Memory\n",
    "* Computes While Going\n",
    "* cant reuse it \n",
    "  - suppose we run for loop using list we can run loop many times but in case of gen obj , it forgets after loop is done."
   ]
  },
  {
   "cell_type": "code",
   "execution_count": 28,
   "id": "5727de96",
   "metadata": {},
   "outputs": [
    {
     "name": "stdout",
     "output_type": "stream",
     "text": [
      "8448728\n",
      "192\n"
     ]
    }
   ],
   "source": [
    "import sys\n",
    "\n",
    "my_list = [x for x in range(1000000)]\n",
    "my_gen = (x for x in range(1000000))\n",
    "\n",
    "print(sys.getsizeof(my_list))  # Large\n",
    "print(sys.getsizeof(my_gen))   # Very small"
   ]
  },
  {
   "cell_type": "code",
   "execution_count": 29,
   "id": "b59e043d",
   "metadata": {},
   "outputs": [
    {
     "name": "stdout",
     "output_type": "stream",
     "text": [
      "[[1, 2, 3, 4]]\n"
     ]
    }
   ],
   "source": [
    "a = [1, 2]\n",
    "b = [3, 4]\n",
    "combined = [a+b]\n",
    "print(combined)"
   ]
  },
  {
   "cell_type": "code",
   "execution_count": 31,
   "id": "b17b5ec6",
   "metadata": {},
   "outputs": [
    {
     "name": "stdout",
     "output_type": "stream",
     "text": [
      "Sum Is :  10\n"
     ]
    }
   ],
   "source": [
    "def add(x,y):\n",
    "    x+y\n",
    "    print(\"Sum Is : \",x+y)\n",
    "add(5,5)"
   ]
  },
  {
   "cell_type": "markdown",
   "id": "15baf251",
   "metadata": {},
   "source": [
    "#### Unpacking Operator\n",
    "\n",
    "* Used to unpack items in list \n",
    "   - List=[1,2,3]\n",
    "   - *List \n",
    "* If we use ** It unpacks Dictionary"
   ]
  },
  {
   "cell_type": "code",
   "execution_count": 34,
   "id": "1f76b965",
   "metadata": {},
   "outputs": [
    {
     "name": "stdout",
     "output_type": "stream",
     "text": [
      "Sum Is :  20\n"
     ]
    }
   ],
   "source": [
    "list=[15,5]\n",
    "add(*list)"
   ]
  },
  {
   "cell_type": "code",
   "execution_count": 48,
   "id": "b4acccb5",
   "metadata": {},
   "outputs": [
    {
     "name": "stdout",
     "output_type": "stream",
     "text": [
      "['hello', ',', 'this', 'is', 'harish.', 'this', 'is', 'to', 'count', 'total', 'words', 'in', 'the', 'text.', 'the', 'aim', 'is', 'to', 'find', 'count', 'of', 'the', 'most', 'repeated', 'words', 'in', 'the', 'text.']\n"
     ]
    }
   ],
   "source": [
    "sentence=(\"Hello , This Is Harish. This Is To Count total words in the text. The aim is to find count of the most repeated words in the text.\").lower()\n",
    "\n",
    "Sentence=sentence.split()\n",
    "print(Sentence)"
   ]
  },
  {
   "cell_type": "code",
   "execution_count": 53,
   "id": "d394997c",
   "metadata": {},
   "outputs": [
    {
     "name": "stdout",
     "output_type": "stream",
     "text": [
      "{'hello': 1, ',': 1, 'this': 2, 'is': 3, 'harish.': 1, 'to': 2, 'count': 2, 'total': 1, 'words': 2, 'in': 2, 'the': 4, 'text.': 2, 'aim': 1, 'find': 1, 'of': 1, 'most': 1, 'repeated': 1}\n",
      "Sorte Dictionary\n",
      "{'the': 4, 'is': 3, 'this': 2, 'to': 2, 'count': 2, 'words': 2, 'in': 2, 'text.': 2, 'hello': 1, ',': 1, 'harish.': 1, 'total': 1, 'aim': 1, 'find': 1, 'of': 1, 'most': 1, 'repeated': 1}\n"
     ]
    }
   ],
   "source": [
    "Dict={}\n",
    "for i in Sentence:\n",
    "    if i not in Dict:\n",
    "        Dict[i] = 1\n",
    "    else:\n",
    "        Dict[i] += 1\n",
    "print(Dict)\n",
    "\n",
    "\n",
    "print(\"Sorte Dictionary\")\n",
    "\n",
    "Sorted_Dict=dict(sorted(Dict.items(),key=lambda x:x[1],reverse=True))\n",
    "print(Sorted_Dict)\n",
    "\n",
    "\n",
    "    "
   ]
  },
  {
   "cell_type": "code",
   "execution_count": 54,
   "id": "13c770e4",
   "metadata": {},
   "outputs": [
    {
     "ename": "ValueError",
     "evalue": "invalid literal for int() with base 10: 'g'",
     "output_type": "error",
     "traceback": [
      "\u001b[31m---------------------------------------------------------------------------\u001b[39m",
      "\u001b[31mValueError\u001b[39m                                Traceback (most recent call last)",
      "\u001b[36mCell\u001b[39m\u001b[36m \u001b[39m\u001b[32mIn[54]\u001b[39m\u001b[32m, line 1\u001b[39m\n\u001b[32m----> \u001b[39m\u001b[32m1\u001b[39m age= \u001b[38;5;28;43mint\u001b[39;49m\u001b[43m(\u001b[49m\u001b[38;5;28;43minput\u001b[39;49m\u001b[43m(\u001b[49m\u001b[43m(\u001b[49m\u001b[33;43m\"\u001b[39;49m\u001b[33;43m Enter Your Age:\u001b[39;49m\u001b[33;43m\"\u001b[39;49m\u001b[43m)\u001b[49m\u001b[43m)\u001b[49m\u001b[43m)\u001b[49m\n",
      "\u001b[31mValueError\u001b[39m: invalid literal for int() with base 10: 'g'"
     ]
    }
   ],
   "source": [
    "age= int(input((\" Enter Your Age:\")))\n"
   ]
  },
  {
   "cell_type": "markdown",
   "id": "0f298891",
   "metadata": {},
   "source": [
    "## Exception"
   ]
  },
  {
   "cell_type": "code",
   "execution_count": null,
   "id": "407f48d6",
   "metadata": {},
   "outputs": [
    {
     "name": "stdout",
     "output_type": "stream",
     "text": [
      "You Didnt Enter A Valid Age\n"
     ]
    }
   ],
   "source": [
    "try:\n",
    "    age= int(input((\" Enter Your Age:\")))\n",
    "except ValueError:\n",
    "    print(\"You Didnt Enter A Valid Age\")\n",
    "else:\n",
    "    print(\"No Exceptions Were Thrown\")\n",
    "\n"
   ]
  },
  {
   "cell_type": "markdown",
   "id": "6ec8e02d",
   "metadata": {},
   "source": [
    "###  Python `try`-`except`-`else`-`finally` Clauses \n",
    "\n",
    "- **`try`**  \n",
    "  Runs first. Contains the code that might raise an exception.\n",
    "\n",
    "- **`except`**  \n",
    "  Executes only **if an exception occurs** in the `try` block.\n",
    "\n",
    "- **`else`**  \n",
    "  Executes **only if the `try` block runs successfully** ( no error occurs).\n",
    "\n",
    "- **`finally`**  \n",
    "  Always runs — **whether an exception occurs or not**. Typically used for cleanup tasks like closing files."
   ]
  },
  {
   "cell_type": "code",
   "execution_count": 57,
   "id": "881fac2d",
   "metadata": {},
   "outputs": [
    {
     "name": "stdout",
     "output_type": "stream",
     "text": [
      "No Exceptions Were Thrown.\n",
      "File has been closed.\n"
     ]
    }
   ],
   "source": [
    "\n",
    "try:\n",
    "    age = int(input(\"Enter Your Age: \"))\n",
    "except ValueError:\n",
    "    print(\"You Didn't Enter A Valid Age\")\n",
    "else:\n",
    "    print(\"No Exceptions Were Thrown.\")\n",
    "    file = open(\"age.txt\", \"w\")\n",
    "    file.write(f\"User age is: {age}\")\n",
    "finally:\n",
    "    if file:\n",
    "        file.close()\n",
    "        print(\"File has been closed.\")\n",
    "    else:\n",
    "        print(\"File was never opened.\")"
   ]
  },
  {
   "cell_type": "code",
   "execution_count": 8,
   "id": "434fcde4",
   "metadata": {},
   "outputs": [
    {
     "name": "stdout",
     "output_type": "stream",
     "text": [
      "[0, 1, 9, 16, 100]\n"
     ]
    }
   ],
   "source": [
    "nums=[-4, -1, 0, 3, 10]\n",
    "\n",
    "s= [x*x for x in nums ]\n",
    "s.sort()\n",
    "print(s)"
   ]
  },
  {
   "cell_type": "code",
   "execution_count": null,
   "id": "c73821a6",
   "metadata": {},
   "outputs": [],
   "source": []
  }
 ],
 "metadata": {
  "kernelspec": {
   "display_name": "venv",
   "language": "python",
   "name": "python3"
  },
  "language_info": {
   "codemirror_mode": {
    "name": "ipython",
    "version": 3
   },
   "file_extension": ".py",
   "mimetype": "text/x-python",
   "name": "python",
   "nbconvert_exporter": "python",
   "pygments_lexer": "ipython3",
   "version": "3.12.1"
  }
 },
 "nbformat": 4,
 "nbformat_minor": 5
}
